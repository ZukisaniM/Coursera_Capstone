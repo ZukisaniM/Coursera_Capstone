{
    "nbformat_minor": 1, 
    "cells": [
        {
            "source": "# Data Section", 
            "cell_type": "markdown", 
            "metadata": {
                "collapsed": true
            }
        }, 
        {
            "source": "The data that will be used for analysis is from a Brazilian e-commerce platform called OList. The platform allows customers to place orders for various suppliers and the suppliers deliver the orders through a courier to the customer. The OList data that will be utilised in the analysis will  contain the following information: customer order details, seller information, customer location, status of the order, time of purchase, order approval time, time order was delivered to courier, time order was delivered to the customer and the estimated time of delivery. Another dataset that will be used in the analysis is the foursquare dataset, which contains information regarding location data", 
            "cell_type": "markdown", 
            "metadata": {}
        }
    ], 
    "metadata": {
        "kernelspec": {
            "display_name": "Python 3.5", 
            "name": "python3", 
            "language": "python"
        }, 
        "language_info": {
            "mimetype": "text/x-python", 
            "nbconvert_exporter": "python", 
            "version": "3.5.5", 
            "name": "python", 
            "file_extension": ".py", 
            "pygments_lexer": "ipython3", 
            "codemirror_mode": {
                "version": 3, 
                "name": "ipython"
            }
        }
    }, 
    "nbformat": 4
}