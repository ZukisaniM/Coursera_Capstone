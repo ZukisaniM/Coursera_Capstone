{
    "nbformat_minor": 1, 
    "cells": [
        {
            "source": "# Introduction", 
            "cell_type": "markdown", 
            "metadata": {
                "collapsed": true
            }
        }, 
        {
            "source": "E-commerce has grown over the past years as more organisations have moved into selling products on digital platforms, which has introduced a variety of challenges for retailers. One of the main challenges that are faced by retailers in the supply chain is within logistics. This is due to the huge volumes of orders placed across varying geographic locations, which has placed a burden to the supply chain.  The fulfilment of orders in time to the customer is one of the toughest logistical challenges that faces retailers in the e-commerce industry. Improvement in the time of delivery of products to customers is one of the ways to build loyal customers and ensure that the e-commerce site is the platform of choice to sell and purchase products. Therefore the following report will seek to analyse and understand the current challeges within the specific e-commerce platforms logistics landscape, in order to see if there are delivery performance improvement opportunities for suppliers.", 
            "cell_type": "markdown", 
            "metadata": {}
        }, 
        {
            "execution_count": null, 
            "cell_type": "code", 
            "metadata": {}, 
            "outputs": [], 
            "source": ""
        }
    ], 
    "metadata": {
        "kernelspec": {
            "display_name": "Python 3.5", 
            "name": "python3", 
            "language": "python"
        }, 
        "language_info": {
            "mimetype": "text/x-python", 
            "nbconvert_exporter": "python", 
            "version": "3.5.5", 
            "name": "python", 
            "file_extension": ".py", 
            "pygments_lexer": "ipython3", 
            "codemirror_mode": {
                "version": 3, 
                "name": "ipython"
            }
        }
    }, 
    "nbformat": 4
}